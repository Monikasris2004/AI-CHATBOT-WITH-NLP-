{
 "cells": [
  {
   "cell_type": "code",
   "execution_count": 1,
   "id": "1a0c1c67-9d0c-479c-95ff-dad04b22f03e",
   "metadata": {},
   "outputs": [
    {
     "name": "stdout",
     "output_type": "stream",
     "text": [
      "Chatbot: Hi! Type 'exit' to end the conversation.\n"
     ]
    },
    {
     "name": "stdin",
     "output_type": "stream",
     "text": [
      "You:  hii\n"
     ]
    },
    {
     "name": "stdout",
     "output_type": "stream",
     "text": [
      "Chatbot: Hello! How can I assist you today?\n"
     ]
    },
    {
     "name": "stdin",
     "output_type": "stream",
     "text": [
      "You:  how are you\n"
     ]
    },
    {
     "name": "stdout",
     "output_type": "stream",
     "text": [
      "Chatbot: I'm sorry, I didn't understand that. Can you rephrase?\n"
     ]
    },
    {
     "name": "stdin",
     "output_type": "stream",
     "text": [
      "You:  farewell\n"
     ]
    },
    {
     "name": "stdout",
     "output_type": "stream",
     "text": [
      "Chatbot: I'm sorry, I didn't understand that. Can you rephrase?\n"
     ]
    },
    {
     "name": "stdin",
     "output_type": "stream",
     "text": [
      "You:  hii\n"
     ]
    },
    {
     "name": "stdout",
     "output_type": "stream",
     "text": [
      "Chatbot: Hello! How can I assist you today?\n"
     ]
    },
    {
     "name": "stdin",
     "output_type": "stream",
     "text": [
      "You:  exit\n"
     ]
    },
    {
     "name": "stdout",
     "output_type": "stream",
     "text": [
      "Chatbot: Goodbye!\n"
     ]
    }
   ],
   "source": [
    "import spacy\n",
    "from spacy.lang.en.stop_words import STOP_WORDS\n",
    "\n",
    "# Load SpaCy's small English language model\n",
    "nlp = spacy.load(\"en_core_web_sm\")\n",
    "\n",
    "# Predefined intents and responses\n",
    "intents = {\n",
    "    \"greeting\": [\"hello\", \"hi\", \"hey\"],\n",
    "    \"farewell\": [\"bye\", \"goodbye\", \"see you\"],\n",
    "    \"thanks\": [\"thank you\", \"thanks\", \"appreciate it\"]\n",
    "}\n",
    "\n",
    "responses = {\n",
    "    \"greeting\": \"Hello! How can I assist you today?\",\n",
    "    \"farewell\": \"Goodbye! Have a great day!\",\n",
    "    \"thanks\": \"You're welcome! I'm happy to help.\"\n",
    "}\n",
    "\n",
    "def chatbot_response(user_input):\n",
    "    # Process user input\n",
    "    doc = nlp(user_input.lower())\n",
    "    cleaned_input = \" \".join([token.text for token in doc if token.text not in STOP_WORDS])\n",
    "\n",
    "    # Determine intent based on keyword matching\n",
    "    for intent, keywords in intents.items():\n",
    "        if any(keyword in cleaned_input for keyword in keywords):\n",
    "            return responses[intent]\n",
    "    return \"I'm sorry, I didn't understand that. Can you rephrase?\"\n",
    "\n",
    "# Chatbot interaction loop\n",
    "print(\"Chatbot: Hi! Type 'exit' to end the conversation.\")\n",
    "while True:\n",
    "    user_input = input(\"You: \")\n",
    "    if user_input.lower() == \"exit\":\n",
    "        print(\"Chatbot: Goodbye!\")\n",
    "        break\n",
    "    print(\"Chatbot:\", chatbot_response(user_input))\n"
   ]
  },
  {
   "cell_type": "code",
   "execution_count": null,
   "id": "e49642b5-8540-4a02-9eb7-c85a9f8e4d42",
   "metadata": {},
   "outputs": [],
   "source": []
  }
 ],
 "metadata": {
  "kernelspec": {
   "display_name": "Python 3 (ipykernel)",
   "language": "python",
   "name": "python3"
  },
  "language_info": {
   "codemirror_mode": {
    "name": "ipython",
    "version": 3
   },
   "file_extension": ".py",
   "mimetype": "text/x-python",
   "name": "python",
   "nbconvert_exporter": "python",
   "pygments_lexer": "ipython3",
   "version": "3.12.7"
  }
 },
 "nbformat": 4,
 "nbformat_minor": 5
}
